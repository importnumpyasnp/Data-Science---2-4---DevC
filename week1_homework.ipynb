{
  "nbformat": 4,
  "nbformat_minor": 0,
  "metadata": {
    "colab": {
      "name": "week1-homework.ipynb",
      "provenance": []
    },
    "kernelspec": {
      "name": "python3",
      "display_name": "Python 3"
    }
  },
  "cells": [
    {
      "cell_type": "markdown",
      "metadata": {
        "id": "VPwZgd9nmRhY",
        "colab_type": "text"
      },
      "source": [
        "# **PYTHON**"
      ]
    },
    {
      "cell_type": "markdown",
      "metadata": {
        "id": "EdhjC2YpmYK0",
        "colab_type": "text"
      },
      "source": [
        "SOLVE ME FIRST"
      ]
    },
    {
      "cell_type": "code",
      "metadata": {
        "id": "MVd-WuGGmUad",
        "colab_type": "code",
        "colab": {
          "base_uri": "https://localhost:8080/",
          "height": 68
        },
        "outputId": "8ed18fc6-b91b-4249-da7d-05d10dfe95d0"
      },
      "source": [
        "def solveMeFirst(a,b):\n",
        "   # Hint: Type return a+b below \n",
        "    return a + b\n",
        "  \n",
        "\n",
        "\n",
        "num1 = input()\n",
        "num2 = input()\n",
        "res = solveMeFirst(num1,num2)\n",
        "print(res)"
      ],
      "execution_count": 4,
      "outputs": [
        {
          "output_type": "stream",
          "text": [
            "2\n",
            "3\n",
            "23\n"
          ],
          "name": "stdout"
        }
      ]
    },
    {
      "cell_type": "markdown",
      "metadata": {
        "id": "uQlXlcqln8fT",
        "colab_type": "text"
      },
      "source": [
        "Simple Array Sum"
      ]
    },
    {
      "cell_type": "code",
      "metadata": {
        "id": "eUFI_pWKmd-o",
        "colab_type": "code",
        "colab": {}
      },
      "source": [
        "#!/bin/python\n",
        "\n",
        "import sys\n",
        "\n",
        "def simpleArraySum(n, ar):\n",
        "    total = 0\n",
        "    for i in ar:\n",
        "        total += i\n",
        "    return total\n",
        "    # Complete this function\n",
        "\n",
        "n = int(raw_input().strip())\n",
        "ar = map(int, raw_input().strip().split(' '))\n",
        "result = simpleArraySum(n, ar)\n",
        "print(result)"
      ],
      "execution_count": 0,
      "outputs": []
    },
    {
      "cell_type": "markdown",
      "metadata": {
        "id": "Ym9FL3vqoH-3",
        "colab_type": "text"
      },
      "source": [
        "Compare The Triplets"
      ]
    },
    {
      "cell_type": "code",
      "metadata": {
        "id": "kdVQ6v4joVYj",
        "colab_type": "code",
        "colab": {}
      },
      "source": [
        "#!/bin/python\n",
        "\n",
        "import sys\n",
        "\n",
        "a_triplet = map(int, raw_input().split())\n",
        "b_triplet = map(int, raw_input().split())\n",
        "alice_points = 0\n",
        "bob_points = 0\n",
        "for a_val, b_val in zip(a_triplet, b_triplet):\n",
        "    if a_val < b_val:\n",
        "        bob_points += 1\n",
        "    elif a_val > b_val:\n",
        "        alice_points += 1\n",
        "print alice_points, bob_points"
      ],
      "execution_count": 0,
      "outputs": []
    },
    {
      "cell_type": "markdown",
      "metadata": {
        "id": "Bp1oqe5loaLd",
        "colab_type": "text"
      },
      "source": [
        "A Very Big Sum"
      ]
    },
    {
      "cell_type": "code",
      "metadata": {
        "id": "K1cfQaMBomdp",
        "colab_type": "code",
        "colab": {}
      },
      "source": [
        "#!/bin/python\n",
        "\n",
        "import sys\n",
        "\n",
        "def aVeryBigSum(n, ar):\n",
        "    total = 0\n",
        "    for i in ar:\n",
        "        total += i\n",
        "    return total\n",
        "    # Complete this function\n",
        "\n",
        "n = int(raw_input().strip())\n",
        "ar = map(long, raw_input().strip().split(' '))\n",
        "result = aVeryBigSum(n, ar)\n",
        "print(result)\n"
      ],
      "execution_count": 0,
      "outputs": []
    },
    {
      "cell_type": "markdown",
      "metadata": {
        "id": "inizRDA-orMc",
        "colab_type": "text"
      },
      "source": [
        "Diagonal Difference"
      ]
    },
    {
      "cell_type": "code",
      "metadata": {
        "id": "V6BDFGJ6o8w0",
        "colab_type": "code",
        "colab": {}
      },
      "source": [
        "#!/bin/python\n",
        "\n",
        "import sys\n",
        "\n",
        "n = int(raw_input().strip())\n",
        "a = []\n",
        "for a_i in xrange(n):\n",
        "    a_temp = map(int,raw_input().strip().split(' '))\n",
        "    a.append(a_temp)\n",
        "sum1=0\n",
        "sum2=0\n",
        "for i in xrange(len(a)):\n",
        "    sum1 += a[i][i]\n",
        "    sum2 += a[i][len(a)-1-i]\n",
        "print abs(sum1-sum2)"
      ],
      "execution_count": 0,
      "outputs": []
    },
    {
      "cell_type": "markdown",
      "metadata": {
        "id": "nLJONiUGpC8o",
        "colab_type": "text"
      },
      "source": [
        "# SQL"
      ]
    },
    {
      "cell_type": "markdown",
      "metadata": {
        "id": "1XDnymEKpICi",
        "colab_type": "text"
      },
      "source": [
        "Revising the Select Query I\n",
        "\n"
      ]
    },
    {
      "cell_type": "code",
      "metadata": {
        "id": "lpN7tP6zpFhm",
        "colab_type": "code",
        "colab": {}
      },
      "source": [
        "select *\n",
        "from CITY\n",
        "where COUNTRYCODE=\"USA\" and POPULATION > 100000"
      ],
      "execution_count": 0,
      "outputs": []
    },
    {
      "cell_type": "markdown",
      "metadata": {
        "id": "AUCMGumFpdMF",
        "colab_type": "text"
      },
      "source": [
        "Revising the Select Query II\n",
        "\n"
      ]
    },
    {
      "cell_type": "code",
      "metadata": {
        "id": "ulN9gAguph30",
        "colab_type": "code",
        "colab": {}
      },
      "source": [
        "select NAME\n",
        "from CITY\n",
        "where COUNTRYCODE=\"USA\" and POPULATION > 120000"
      ],
      "execution_count": 0,
      "outputs": []
    },
    {
      "cell_type": "markdown",
      "metadata": {
        "id": "l9cCA9iqpkaU",
        "colab_type": "text"
      },
      "source": [
        "Select All\n",
        "\n"
      ]
    },
    {
      "cell_type": "code",
      "metadata": {
        "id": "dhgUCs9Tpq2_",
        "colab_type": "code",
        "colab": {}
      },
      "source": [
        "select * \n",
        "from CITY"
      ],
      "execution_count": 0,
      "outputs": []
    },
    {
      "cell_type": "markdown",
      "metadata": {
        "id": "Z-xS1Hfapsxv",
        "colab_type": "text"
      },
      "source": [
        "Select By ID\n",
        "\n"
      ]
    },
    {
      "cell_type": "code",
      "metadata": {
        "id": "ivYrsqcrpx7N",
        "colab_type": "code",
        "colab": {}
      },
      "source": [
        "select *\n",
        "from CITY\n",
        "where ID=1661"
      ],
      "execution_count": 0,
      "outputs": []
    },
    {
      "cell_type": "markdown",
      "metadata": {
        "id": "QXZvOKDbpz5V",
        "colab_type": "text"
      },
      "source": [
        "Japanese Cities' Attributes\n",
        "\n"
      ]
    },
    {
      "cell_type": "code",
      "metadata": {
        "id": "VRBIe69op3eX",
        "colab_type": "code",
        "colab": {}
      },
      "source": [
        "select *\n",
        "from CITY\n",
        "where COUNTRYCODE=\"JPN\""
      ],
      "execution_count": 0,
      "outputs": []
    },
    {
      "cell_type": "markdown",
      "metadata": {
        "id": "A8f4_74Zp5ke",
        "colab_type": "text"
      },
      "source": [
        "Japanese Cities' Names\n",
        "\n"
      ]
    },
    {
      "cell_type": "code",
      "metadata": {
        "id": "F4Su7cqdqJpG",
        "colab_type": "code",
        "colab": {}
      },
      "source": [
        "select NAME\n",
        "from CITY\n",
        "where COUNTRYCODE=\"JPN\""
      ],
      "execution_count": 0,
      "outputs": []
    },
    {
      "cell_type": "markdown",
      "metadata": {
        "id": "0ygajtHtqLkO",
        "colab_type": "text"
      },
      "source": [
        "Weather Observation Station 1\n",
        "\n"
      ]
    },
    {
      "cell_type": "code",
      "metadata": {
        "id": "eHsalUULqoex",
        "colab_type": "code",
        "colab": {}
      },
      "source": [
        "select CITY, STATE\n",
        "from STATION"
      ],
      "execution_count": 0,
      "outputs": []
    },
    {
      "cell_type": "markdown",
      "metadata": {
        "id": "3NICtGotqvJO",
        "colab_type": "text"
      },
      "source": [
        "Weather Observation Station 3\n",
        "\n"
      ]
    },
    {
      "cell_type": "code",
      "metadata": {
        "id": "AbJDCLLbqtGI",
        "colab_type": "code",
        "colab": {}
      },
      "source": [
        "select distinct city\n",
        "from STATION\n",
        "where (ID%2)=0"
      ],
      "execution_count": 0,
      "outputs": []
    },
    {
      "cell_type": "markdown",
      "metadata": {
        "id": "pI3afmO6q3qZ",
        "colab_type": "text"
      },
      "source": [
        "Weather Observation Station 4\n",
        "\n"
      ]
    },
    {
      "cell_type": "code",
      "metadata": {
        "id": "aDwyIO8Yq7nq",
        "colab_type": "code",
        "colab": {}
      },
      "source": [
        "select (count(CITY) - count(distinct CITY))\n",
        "from STATION"
      ],
      "execution_count": 0,
      "outputs": []
    },
    {
      "cell_type": "markdown",
      "metadata": {
        "id": "BG7hyXXkq-gP",
        "colab_type": "text"
      },
      "source": [
        "Weather Observation Station 5\n"
      ]
    },
    {
      "cell_type": "code",
      "metadata": {
        "id": "nQ6V461OrJu-",
        "colab_type": "code",
        "colab": {}
      },
      "source": [
        "SELECT CITY, LENGTH(CITY) FROM STATION ORDER BY LENGTH(CITY), CITY ASC LIMIT 1; \n",
        "SELECT CITY, LENGTH(CITY) FROM STATION ORDER BY LENGTH(CITY) DESC LIMIT 1;"
      ],
      "execution_count": 0,
      "outputs": []
    }
  ]
}